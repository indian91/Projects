{
 "cells": [
  {
   "cell_type": "code",
   "execution_count": 5,
   "metadata": {},
   "outputs": [
    {
     "name": "stdout",
     "output_type": "stream",
     "text": [
      "Writing guessgame.py\n"
     ]
    }
   ],
   "source": [
    "%%writefile guessgame.py\n",
    "import time\n",
    "from random import randint\n",
    "print('*'*80)\n",
    "print('*'*80)\n",
    "print()\n",
    "print('😊 Welcome to Guessing Game 😊'.center(80))\n",
    "print()\n",
    "print('*'*80)\n",
    "print('*'*80)\n",
    "print()\n",
    "time.sleep(1)\n",
    "print('Computer Guessing a Number.....')\n",
    "com=randint(1,50)\n",
    "time.sleep(1)\n",
    "print('Guess the Number in Five Chances')\n",
    "chance=1\n",
    "while chance <= 5:\n",
    "    print()\n",
    "    user=int(input('Enter a number between 1-50 only: '))\n",
    "    if user<1 or user > 50:\n",
    "        continue\n",
    "    elif user<com:\n",
    "        print('Think Big')\n",
    "    elif user>com:\n",
    "        print('Think Lower')\n",
    "    elif user==com:\n",
    "        print('Congratulations........😊')\n",
    "        time.sleep(.5)\n",
    "        print('You have won the Game')\n",
    "        break\n",
    "    print(f'Chance Remaining: {5-chance}')\n",
    "    chance+=1\n",
    "else:\n",
    "    print('Chance Over')\n",
    "    print()\n",
    "    print('You are such a looser.....😞')\n",
    "    print()\n",
    "    print(f'Computer guess was {com}')"
   ]
  },
  {
   "cell_type": "code",
   "execution_count": null,
   "metadata": {},
   "outputs": [],
   "source": []
  }
 ],
 "metadata": {
  "kernelspec": {
   "display_name": "Python 3",
   "language": "python",
   "name": "python3"
  },
  "language_info": {
   "codemirror_mode": {
    "name": "ipython",
    "version": 3
   },
   "file_extension": ".py",
   "mimetype": "text/x-python",
   "name": "python",
   "nbconvert_exporter": "python",
   "pygments_lexer": "ipython3",
   "version": "3.7.3"
  }
 },
 "nbformat": 4,
 "nbformat_minor": 2
}

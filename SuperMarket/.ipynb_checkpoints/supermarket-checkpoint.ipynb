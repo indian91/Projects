{
 "cells": [
  {
   "cell_type": "code",
   "execution_count": null,
   "metadata": {},
   "outputs": [],
   "source": [
    "import shelve\n",
    "import time\n",
    "import os\n",
    "l=['Catagory\\tItem\\tBrand\\tQuantity\\tRs./Item.\\tTotal']\n",
    "def main():\n",
    "        os.system('cls')\n",
    "        print(\"\\n\\n\\n\")\n",
    "        s='''1.Stationary\\n2.Electronics\\n3.Cosmatic\\n4.Chocolate\\n5.Exit'''\n",
    "        print(s)\n",
    "        ch=int(input('Enter Your Choice.....'))\n",
    "        if ch==1:\n",
    "            stationary()\n",
    "        elif ch==2:\n",
    "            electronics()\n",
    "        elif ch==3:\n",
    "            cosmatic()\n",
    "        elif ch==4:\n",
    "            chocolate()\n",
    "        elif ch==5:\n",
    "            exit()\n",
    "        else:\n",
    "            print('Invalid Input Please Try Again')\n",
    "            main()\n",
    "def exit():\n",
    "    print('\\n\\n')\n",
    "    global l\n",
    "    if len(l)>1:\n",
    "        l1=[]\n",
    "        for i in l:\n",
    "            i=i.split(',')\n",
    "            l1.append(i[0].split('\\t'))\n",
    "        for i in l1:\n",
    "            for j in i:\n",
    "                print(f\"{j :>15}\",end='\\t')\n",
    "            print()\n",
    "            print('_'*100)\n",
    "            print(end='\\n')\n",
    "        sum=0\n",
    "        for i in range(1,len(l1)):\n",
    "            sum+=int(l1[i][-1])\n",
    "        print('Grand Total: ',f'{sum}'.rjust(80,' '))\n",
    "        print('\\n')\n",
    "    print('Thanks for using our service.....)')\n",
    "    time.sleep(1)\n",
    "    print('...........Exciting.............')\n",
    "    time.sleep(2)\n",
    "    l=[]\n",
    "\n",
    "main()"
   ]
  }
 ],
 "metadata": {
  "kernelspec": {
   "display_name": "Python 3",
   "language": "python",
   "name": "python3"
  },
  "language_info": {
   "codemirror_mode": {
    "name": "ipython",
    "version": 3
   },
   "file_extension": ".py",
   "mimetype": "text/x-python",
   "name": "python",
   "nbconvert_exporter": "python",
   "pygments_lexer": "ipython3",
   "version": "3.7.3"
  }
 },
 "nbformat": 4,
 "nbformat_minor": 2
}
